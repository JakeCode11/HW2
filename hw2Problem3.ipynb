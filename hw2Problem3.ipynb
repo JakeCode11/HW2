{
  "nbformat": 4,
  "nbformat_minor": 0,
  "metadata": {
    "colab": {
      "name": "hw2Problem3.ipynb",
      "provenance": [],
      "collapsed_sections": [],
      "include_colab_link": true
    },
    "kernelspec": {
      "name": "python3",
      "display_name": "Python 3"
    },
    "accelerator": "GPU"
  },
  "cells": [
    {
      "cell_type": "markdown",
      "metadata": {
        "id": "view-in-github",
        "colab_type": "text"
      },
      "source": [
        "<a href=\"https://colab.research.google.com/github/JakeCode11/HW2/blob/master/hw2Problem3.ipynb\" target=\"_parent\"><img src=\"https://colab.research.google.com/assets/colab-badge.svg\" alt=\"Open In Colab\"/></a>"
      ]
    },
    {
      "cell_type": "code",
      "metadata": {
        "id": "QVYU-0LIoMja",
        "colab_type": "code",
        "colab": {}
      },
      "source": [
        "# Importing dependencies\n",
        "import matplotlib.pyplot as plt\n",
        "import numpy as np\n",
        "import tensorflow as tf\n",
        "from tensorflow import keras\n"
      ],
      "execution_count": 0,
      "outputs": []
    },
    {
      "cell_type": "code",
      "metadata": {
        "id": "srTPCAIvpgoa",
        "colab_type": "code",
        "colab": {}
      },
      "source": [
        "# Preprocessing Data\n",
        "cifar10 = keras.datasets.cifar10\n",
        "(train_images, train_labels), (test_images, test_labels) = cifar10.load_data()\n",
        "train_images = train_images / 255.0\n",
        "test_images = test_images / 255.0"
      ],
      "execution_count": 0,
      "outputs": []
    },
    {
      "cell_type": "code",
      "metadata": {
        "id": "OLp1EbKBpp9n",
        "colab_type": "code",
        "outputId": "d9bcc663-6130-4658-9ca4-b648a828f9dc",
        "colab": {
          "base_uri": "https://localhost:8080/",
          "height": 786
        }
      },
      "source": [
        "# Setting up 'Overfitting' model\n",
        "model = keras.Sequential([\n",
        "    keras.layers.Conv2D(32, kernel_size=3, kernel_initializer='he_uniform', activation=tf.nn.relu),\n",
        "    keras.layers.AveragePooling2D(2,2),\n",
        "    keras.layers.Conv2D(32, kernel_size=3, kernel_initializer='he_uniform', activation=tf.nn.softmax),\n",
        "    keras.layers.AveragePooling2D(2,2),\n",
        "    keras.layers.Flatten(),\n",
        "    keras.layers.Dense(128, activation=tf.nn.relu),\n",
        "    keras.layers.Dense(10, activation=tf.nn.softmax),\n",
        "])\n",
        " \n",
        "# Compiling the model\n",
        "model.compile(optimizer='adam',\n",
        "              loss='sparse_categorical_crossentropy',\n",
        "              metrics=['accuracy'])\n",
        "\n",
        "# train the model\n",
        "epochs = 20\n",
        "history = model.fit(train_images,\n",
        "                    train_labels,\n",
        "                    epochs=epochs,\n",
        "                    validation_data=(test_images, test_labels))"
      ],
      "execution_count": 26,
      "outputs": [
        {
          "output_type": "stream",
          "text": [
            "Train on 50000 samples, validate on 10000 samples\n",
            "Epoch 1/20\n",
            "50000/50000 [==============================] - 11s 219us/sample - loss: 1.6276 - acc: 0.4058 - val_loss: 1.3968 - val_acc: 0.5036\n",
            "Epoch 2/20\n",
            "50000/50000 [==============================] - 11s 212us/sample - loss: 1.3202 - acc: 0.5250 - val_loss: 1.2771 - val_acc: 0.5404\n",
            "Epoch 3/20\n",
            "50000/50000 [==============================] - 11s 216us/sample - loss: 1.2189 - acc: 0.5651 - val_loss: 1.2100 - val_acc: 0.5669\n",
            "Epoch 4/20\n",
            "50000/50000 [==============================] - 11s 217us/sample - loss: 1.1317 - acc: 0.5988 - val_loss: 1.1559 - val_acc: 0.5866\n",
            "Epoch 5/20\n",
            "50000/50000 [==============================] - 11s 213us/sample - loss: 1.0600 - acc: 0.6237 - val_loss: 1.1387 - val_acc: 0.5941\n",
            "Epoch 6/20\n",
            "50000/50000 [==============================] - 11s 214us/sample - loss: 1.0018 - acc: 0.6450 - val_loss: 1.0766 - val_acc: 0.6198\n",
            "Epoch 7/20\n",
            "50000/50000 [==============================] - 11s 213us/sample - loss: 0.9448 - acc: 0.6659 - val_loss: 1.0447 - val_acc: 0.6287\n",
            "Epoch 8/20\n",
            "50000/50000 [==============================] - 11s 217us/sample - loss: 0.8945 - acc: 0.6835 - val_loss: 1.0283 - val_acc: 0.6371\n",
            "Epoch 9/20\n",
            "50000/50000 [==============================] - 11s 213us/sample - loss: 0.8444 - acc: 0.7038 - val_loss: 1.0094 - val_acc: 0.6487\n",
            "Epoch 10/20\n",
            "50000/50000 [==============================] - 11s 212us/sample - loss: 0.7961 - acc: 0.7202 - val_loss: 1.0067 - val_acc: 0.6452\n",
            "Epoch 11/20\n",
            "50000/50000 [==============================] - 11s 214us/sample - loss: 0.7527 - acc: 0.7386 - val_loss: 1.0107 - val_acc: 0.6501\n",
            "Epoch 12/20\n",
            "50000/50000 [==============================] - 11s 212us/sample - loss: 0.7135 - acc: 0.7526 - val_loss: 0.9949 - val_acc: 0.6599\n",
            "Epoch 13/20\n",
            "50000/50000 [==============================] - 11s 214us/sample - loss: 0.6684 - acc: 0.7697 - val_loss: 1.0308 - val_acc: 0.6544\n",
            "Epoch 14/20\n",
            "50000/50000 [==============================] - 11s 214us/sample - loss: 0.6312 - acc: 0.7825 - val_loss: 1.0420 - val_acc: 0.6548\n",
            "Epoch 15/20\n",
            "50000/50000 [==============================] - 11s 213us/sample - loss: 0.5950 - acc: 0.7953 - val_loss: 1.0326 - val_acc: 0.6601\n",
            "Epoch 16/20\n",
            "50000/50000 [==============================] - 11s 213us/sample - loss: 0.5586 - acc: 0.8069 - val_loss: 1.0488 - val_acc: 0.6606\n",
            "Epoch 17/20\n",
            "50000/50000 [==============================] - 11s 212us/sample - loss: 0.5279 - acc: 0.8184 - val_loss: 1.0746 - val_acc: 0.6563\n",
            "Epoch 18/20\n",
            "50000/50000 [==============================] - 11s 212us/sample - loss: 0.4959 - acc: 0.8315 - val_loss: 1.0971 - val_acc: 0.6570\n",
            "Epoch 19/20\n",
            "50000/50000 [==============================] - 11s 212us/sample - loss: 0.4612 - acc: 0.8450 - val_loss: 1.1200 - val_acc: 0.6560\n",
            "Epoch 20/20\n",
            "50000/50000 [==============================] - 11s 213us/sample - loss: 0.4301 - acc: 0.8551 - val_loss: 1.1670 - val_acc: 0.6507\n"
          ],
          "name": "stdout"
        }
      ]
    },
    {
      "cell_type": "code",
      "metadata": {
        "id": "ON3EUW5O4NhV",
        "colab_type": "code",
        "outputId": "dc71c975-de82-46c1-901d-613247020201",
        "colab": {
          "base_uri": "https://localhost:8080/",
          "height": 55
        }
      },
      "source": [
        "test_loss, test_acc = model.evaluate(test_images, test_labels)\n",
        "history_dict = history.history\n",
        "acc_values = history_dict['acc']\n",
        "test_acc_values = history_dict['val_acc']\n",
        "loss_values = history_dict['loss']\n",
        "test_loss_values = history_dict['val_loss']\n",
        "epochs_range = range(1, epochs+1)\n",
        "print(\"Test Accuracy:\", test_acc)"
      ],
      "execution_count": 27,
      "outputs": [
        {
          "output_type": "stream",
          "text": [
            "10000/10000 [==============================] - 1s 116us/sample - loss: 1.1670 - acc: 0.6507\n",
            "Test Accuracy: 0.6507\n"
          ],
          "name": "stdout"
        }
      ]
    },
    {
      "cell_type": "code",
      "metadata": {
        "id": "EoZ5k7Ez4QFP",
        "colab_type": "code",
        "outputId": "f68443a0-2248-4252-88d0-5029dbeffd2e",
        "colab": {
          "base_uri": "https://localhost:8080/",
          "height": 295
        }
      },
      "source": [
        "plt.plot(epochs_range, loss_values, 'bo', label='Training loss')\n",
        "plt.plot(epochs_range, test_loss_values, 'ro', label='Test loss')\n",
        "plt.title('Training and test loss')\n",
        "plt.xlabel('Epochs')\n",
        "plt.ylabel('Loss')\n",
        "plt.legend()\n",
        "plt.show()"
      ],
      "execution_count": 28,
      "outputs": [
        {
          "output_type": "display_data",
          "data": {
            "image/png": "[encoded data removed]",
            "text/plain": [
              "<Figure size 432x288 with 1 Axes>"
            ]
          },
          "metadata": {
            "tags": []
          }
        }
      ]
    },
    {
      "cell_type": "code",
      "metadata": {
        "id": "kWbifRRw4SVx",
        "colab_type": "code",
        "outputId": "e06f3b3d-3f6b-492a-9929-b68bbb86ba28",
        "colab": {
          "base_uri": "https://localhost:8080/",
          "height": 295
        }
      },
      "source": [
        "plt.plot(epochs_range, acc_values, 'bo', label='Training accuracy')\n",
        "plt.plot(epochs_range, test_acc_values, 'ro', label='Test accuracy')\n",
        "plt.title('Training and test accuracy')\n",
        "plt.xlabel('Epochs')\n",
        "plt.ylabel('Accuracy')\n",
        "plt.legend()\n",
        "plt.show()"
      ],
      "execution_count": 29,
      "outputs": [
        {
          "output_type": "display_data",
          "data": {
            "image/png": "[encoded data removed]",
            "text/plain": [
              "<Figure size 432x288 with 1 Axes>"
            ]
          },
          "metadata": {
            "tags": []
          }
        }
      ]
    },
    {
      "cell_type": "code",
      "metadata": {
        "id": "Z1HMHwIKr5sM",
        "colab_type": "code",
        "colab": {
          "base_uri": "https://localhost:8080/",
          "height": 805
        },
        "outputId": "c148daeb-f5c9-46cb-989c-bb79c19d9580"
      },
      "source": [
        "# Setting up 'Underfitting' model\n",
        "model = keras.Sequential([\n",
        "    keras.layers.Conv2D(32, kernel_size=3, kernel_initializer='he_uniform', activation=tf.nn.relu),\n",
        "    keras.layers.AveragePooling2D(2,2),\n",
        "    keras.layers.Conv2D(32, kernel_size=3, kernel_initializer='he_uniform', activation=tf.nn.softmax),\n",
        "    keras.layers.AveragePooling2D(2,2),\n",
        "    keras.layers.Flatten(),\n",
        "    keras.layers.Dense(256, activation=tf.nn.relu),\n",
        "    keras.layers.Dropout(0.85),\n",
        "    keras.layers.Dense(10, activation=tf.nn.softmax),\n",
        "])\n",
        " \n",
        "# Compiling the model\n",
        "model.compile(optimizer='adam',\n",
        "              loss='sparse_categorical_crossentropy',\n",
        "              metrics=['accuracy'])\n",
        "\n",
        "# train the model\n",
        "epochs = 20\n",
        "history = model.fit(train_images,\n",
        "                    train_labels,\n",
        "                    epochs=epochs,\n",
        "                    validation_data=(test_images, test_labels))"
      ],
      "execution_count": 37,
      "outputs": [
        {
          "output_type": "stream",
          "text": [
            "WARNING:tensorflow:Large dropout rate: 0.85 (>0.5). In TensorFlow 2.x, dropout() uses dropout rate instead of keep_prob. Please ensure that this is intended.\n",
            "Train on 50000 samples, validate on 10000 samples\n",
            "Epoch 1/20\n",
            "50000/50000 [==============================] - 12s 234us/sample - loss: 1.9598 - acc: 0.2587 - val_loss: 1.5951 - val_acc: 0.4286\n",
            "Epoch 2/20\n",
            "50000/50000 [==============================] - 11s 228us/sample - loss: 1.7142 - acc: 0.3617 - val_loss: 1.5027 - val_acc: 0.4601\n",
            "Epoch 3/20\n",
            "50000/50000 [==============================] - 11s 228us/sample - loss: 1.6404 - acc: 0.3964 - val_loss: 1.4232 - val_acc: 0.4921\n",
            "Epoch 4/20\n",
            "50000/50000 [==============================] - 11s 228us/sample - loss: 1.5889 - acc: 0.4131 - val_loss: 1.3950 - val_acc: 0.5117\n",
            "Epoch 5/20\n",
            "50000/50000 [==============================] - 11s 227us/sample - loss: 1.5563 - acc: 0.4315 - val_loss: 1.3421 - val_acc: 0.5151\n",
            "Epoch 6/20\n",
            "50000/50000 [==============================] - 11s 228us/sample - loss: 1.5154 - acc: 0.4460 - val_loss: 1.3355 - val_acc: 0.5289\n",
            "Epoch 7/20\n",
            "50000/50000 [==============================] - 11s 227us/sample - loss: 1.4880 - acc: 0.4526 - val_loss: 1.2805 - val_acc: 0.5423\n",
            "Epoch 8/20\n",
            "50000/50000 [==============================] - 11s 227us/sample - loss: 1.4586 - acc: 0.4653 - val_loss: 1.2474 - val_acc: 0.5616\n",
            "Epoch 9/20\n",
            "50000/50000 [==============================] - 11s 228us/sample - loss: 1.4357 - acc: 0.4772 - val_loss: 1.2370 - val_acc: 0.5607\n",
            "Epoch 10/20\n",
            "50000/50000 [==============================] - 11s 228us/sample - loss: 1.4117 - acc: 0.4870 - val_loss: 1.2247 - val_acc: 0.5661\n",
            "Epoch 11/20\n",
            "50000/50000 [==============================] - 11s 226us/sample - loss: 1.3888 - acc: 0.4924 - val_loss: 1.2282 - val_acc: 0.5594\n",
            "Epoch 12/20\n",
            "50000/50000 [==============================] - 11s 228us/sample - loss: 1.3627 - acc: 0.5008 - val_loss: 1.1619 - val_acc: 0.5871\n",
            "Epoch 13/20\n",
            "50000/50000 [==============================] - 11s 227us/sample - loss: 1.3549 - acc: 0.5070 - val_loss: 1.1584 - val_acc: 0.5885\n",
            "Epoch 14/20\n",
            "50000/50000 [==============================] - 11s 227us/sample - loss: 1.3308 - acc: 0.5156 - val_loss: 1.1373 - val_acc: 0.6003\n",
            "Epoch 15/20\n",
            "50000/50000 [==============================] - 11s 227us/sample - loss: 1.3183 - acc: 0.5220 - val_loss: 1.1304 - val_acc: 0.6055\n",
            "Epoch 16/20\n",
            "50000/50000 [==============================] - 11s 228us/sample - loss: 1.3050 - acc: 0.5255 - val_loss: 1.1225 - val_acc: 0.6010\n",
            "Epoch 17/20\n",
            "50000/50000 [==============================] - 11s 228us/sample - loss: 1.2881 - acc: 0.5309 - val_loss: 1.1172 - val_acc: 0.6107\n",
            "Epoch 18/20\n",
            "50000/50000 [==============================] - 11s 227us/sample - loss: 1.2725 - acc: 0.5343 - val_loss: 1.0694 - val_acc: 0.6249\n",
            "Epoch 19/20\n",
            "50000/50000 [==============================] - 11s 225us/sample - loss: 1.2613 - acc: 0.5413 - val_loss: 1.0671 - val_acc: 0.6237\n",
            "Epoch 20/20\n",
            "50000/50000 [==============================] - 11s 227us/sample - loss: 1.2489 - acc: 0.5482 - val_loss: 1.0617 - val_acc: 0.6217\n"
          ],
          "name": "stdout"
        }
      ]
    },
    {
      "cell_type": "code",
      "metadata": {
        "id": "3nCTMRKjr9Vc",
        "colab_type": "code",
        "colab": {
          "base_uri": "https://localhost:8080/",
          "height": 55
        },
        "outputId": "fe688932-bb14-4fe3-ba40-36bb45ee1f3b"
      },
      "source": [
        "test_loss, test_acc = model.evaluate(test_images, test_labels)\n",
        "history_dict = history.history\n",
        "acc_values = history_dict['acc']\n",
        "test_acc_values = history_dict['val_acc']\n",
        "loss_values = history_dict['loss']\n",
        "test_loss_values = history_dict['val_loss']\n",
        "epochs_range = range(1, epochs+1)\n",
        "print(\"Test Accuracy:\", test_acc)"
      ],
      "execution_count": 38,
      "outputs": [
        {
          "output_type": "stream",
          "text": [
            "10000/10000 [==============================] - 1s 122us/sample - loss: 1.0617 - acc: 0.6217\n",
            "Test Accuracy: 0.6217\n"
          ],
          "name": "stdout"
        }
      ]
    },
    {
      "cell_type": "code",
      "metadata": {
        "id": "021RM8JlsAZm",
        "colab_type": "code",
        "colab": {
          "base_uri": "https://localhost:8080/",
          "height": 295
        },
        "outputId": "131aa9c3-e272-4d85-b06c-60930d507ddb"
      },
      "source": [
        "plt.plot(epochs_range, loss_values, 'bo', label='Training loss')\n",
        "plt.plot(epochs_range, test_loss_values, 'ro', label='Test loss')\n",
        "plt.title('Training and test loss')\n",
        "plt.xlabel('Epochs')\n",
        "plt.ylabel('Loss')\n",
        "plt.legend()\n",
        "plt.show()"
      ],
      "execution_count": 39,
      "outputs": [
        {
          "output_type": "display_data",
          "data": {
            "image/png": "[encoded data removed]",
            "text/plain": [
              "<Figure size 432x288 with 1 Axes>"
            ]
          },
          "metadata": {
            "tags": []
          }
        }
      ]
    },
    {
      "cell_type": "code",
      "metadata": {
        "id": "EMeQzRT_sCw4",
        "colab_type": "code",
        "colab": {
          "base_uri": "https://localhost:8080/",
          "height": 295
        },
        "outputId": "9776046b-df29-4f4d-b978-24230223d173"
      },
      "source": [
        "plt.plot(epochs_range, acc_values, 'bo', label='Training accuracy')\n",
        "plt.plot(epochs_range, test_acc_values, 'ro', label='Test accuracy')\n",
        "plt.title('Training and test accuracy')\n",
        "plt.xlabel('Epochs')\n",
        "plt.ylabel('Accuracy')\n",
        "plt.legend()\n",
        "plt.show()"
      ],
      "execution_count": 40,
      "outputs": [
        {
          "output_type": "display_data",
          "data": {
            "image/png": "[encoded data removed]",
            "text/plain": [
              "<Figure size 432x288 with 1 Axes>"
            ]
          },
          "metadata": {
            "tags": []
          }
        }
      ]
    },
    {
      "cell_type": "code",
      "metadata": {
        "id": "F6ApaszYv3dT",
        "colab_type": "code",
        "colab": {
          "base_uri": "https://localhost:8080/",
          "height": 786
        },
        "outputId": "25003540-5920-44f2-f5f8-1c34a67f5ea0"
      },
      "source": [
        "# Setting up 'Good fit' model\n",
        "model = keras.Sequential([\n",
        "    keras.layers.Conv2D(32, kernel_size=3, kernel_initializer='he_uniform', activation=tf.nn.relu),\n",
        "    keras.layers.Conv2D(32, kernel_size=3, kernel_initializer='he_uniform', activation=tf.nn.relu),\n",
        "    keras.layers.AveragePooling2D(2,2),\n",
        "    keras.layers.Conv2D(32, kernel_size=3, kernel_initializer='he_uniform', activation=tf.nn.softmax),\n",
        "    keras.layers.Conv2D(32, kernel_size=3, kernel_initializer='he_uniform', activation=tf.nn.softmax),\n",
        "    keras.layers.AveragePooling2D(2,2),\n",
        "    keras.layers.Flatten(),\n",
        "    keras.layers.Dense(16, activation=tf.nn.relu),\n",
        "    keras.layers.Dense(10, activation=tf.nn.softmax),\n",
        "])\n",
        " \n",
        "# Compiling the model\n",
        "model.compile(optimizer='adam',\n",
        "              loss='sparse_categorical_crossentropy',\n",
        "              metrics=['accuracy'])\n",
        "\n",
        "# train the model\n",
        "epochs = 20\n",
        "history = model.fit(train_images,\n",
        "                    train_labels,\n",
        "                    epochs=epochs,\n",
        "                    validation_data=(test_images, test_labels))"
      ],
      "execution_count": 54,
      "outputs": [
        {
          "output_type": "stream",
          "text": [
            "Train on 50000 samples, validate on 10000 samples\n",
            "Epoch 1/20\n",
            "50000/50000 [==============================] - 16s 322us/sample - loss: 1.9582 - acc: 0.2428 - val_loss: 1.6782 - val_acc: 0.3683\n",
            "Epoch 2/20\n",
            "50000/50000 [==============================] - 16s 311us/sample - loss: 1.5262 - acc: 0.4356 - val_loss: 1.4077 - val_acc: 0.4832\n",
            "Epoch 3/20\n",
            "50000/50000 [==============================] - 16s 311us/sample - loss: 1.3624 - acc: 0.5021 - val_loss: 1.3113 - val_acc: 0.5207\n",
            "Epoch 4/20\n",
            "50000/50000 [==============================] - 16s 311us/sample - loss: 1.2730 - acc: 0.5369 - val_loss: 1.2347 - val_acc: 0.5479\n",
            "Epoch 5/20\n",
            "50000/50000 [==============================] - 16s 311us/sample - loss: 1.2015 - acc: 0.5626 - val_loss: 1.1720 - val_acc: 0.5778\n",
            "Epoch 6/20\n",
            "50000/50000 [==============================] - 16s 310us/sample - loss: 1.1372 - acc: 0.5902 - val_loss: 1.1317 - val_acc: 0.5944\n",
            "Epoch 7/20\n",
            "50000/50000 [==============================] - 16s 311us/sample - loss: 1.0798 - acc: 0.6098 - val_loss: 1.1023 - val_acc: 0.6104\n",
            "Epoch 8/20\n",
            "50000/50000 [==============================] - 16s 311us/sample - loss: 1.0301 - acc: 0.6307 - val_loss: 1.0226 - val_acc: 0.6354\n",
            "Epoch 9/20\n",
            "50000/50000 [==============================] - 16s 310us/sample - loss: 0.9864 - acc: 0.6467 - val_loss: 1.0091 - val_acc: 0.6456\n",
            "Epoch 10/20\n",
            "50000/50000 [==============================] - 15s 309us/sample - loss: 0.9496 - acc: 0.6619 - val_loss: 0.9679 - val_acc: 0.6599\n",
            "Epoch 11/20\n",
            "50000/50000 [==============================] - 15s 310us/sample - loss: 0.9097 - acc: 0.6748 - val_loss: 0.9608 - val_acc: 0.6654\n",
            "Epoch 12/20\n",
            "50000/50000 [==============================] - 16s 311us/sample - loss: 0.8790 - acc: 0.6859 - val_loss: 0.9127 - val_acc: 0.6837\n",
            "Epoch 13/20\n",
            "50000/50000 [==============================] - 15s 309us/sample - loss: 0.8479 - acc: 0.6973 - val_loss: 0.9107 - val_acc: 0.6823\n",
            "Epoch 14/20\n",
            "50000/50000 [==============================] - 16s 311us/sample - loss: 0.8220 - acc: 0.7073 - val_loss: 0.8844 - val_acc: 0.6917\n",
            "Epoch 15/20\n",
            "50000/50000 [==============================] - 16s 313us/sample - loss: 0.8006 - acc: 0.7155 - val_loss: 0.8739 - val_acc: 0.6918\n",
            "Epoch 16/20\n",
            "50000/50000 [==============================] - 16s 314us/sample - loss: 0.7772 - acc: 0.7232 - val_loss: 0.8442 - val_acc: 0.7063\n",
            "Epoch 17/20\n",
            "50000/50000 [==============================] - 16s 310us/sample - loss: 0.7567 - acc: 0.7315 - val_loss: 0.8245 - val_acc: 0.7095\n",
            "Epoch 18/20\n",
            "50000/50000 [==============================] - 15s 309us/sample - loss: 0.7371 - acc: 0.7370 - val_loss: 0.8432 - val_acc: 0.7032\n",
            "Epoch 19/20\n",
            "50000/50000 [==============================] - 16s 310us/sample - loss: 0.7225 - acc: 0.7444 - val_loss: 0.8786 - val_acc: 0.6911\n",
            "Epoch 20/20\n",
            "50000/50000 [==============================] - 16s 310us/sample - loss: 0.7074 - acc: 0.7487 - val_loss: 0.8182 - val_acc: 0.7160\n"
          ],
          "name": "stdout"
        }
      ]
    },
    {
      "cell_type": "code",
      "metadata": {
        "id": "94_lm-wZwCRI",
        "colab_type": "code",
        "colab": {
          "base_uri": "https://localhost:8080/",
          "height": 55
        },
        "outputId": "3761c722-3c20-40ed-8e34-ae48c2f4e546"
      },
      "source": [
        "test_loss, test_acc = model.evaluate(test_images, test_labels)\n",
        "history_dict = history.history\n",
        "acc_values = history_dict['acc']\n",
        "test_acc_values = history_dict['val_acc']\n",
        "loss_values = history_dict['loss']\n",
        "test_loss_values = history_dict['val_loss']\n",
        "epochs_range = range(1, epochs+1)\n",
        "print(\"Test Accuracy:\", test_acc)"
      ],
      "execution_count": 55,
      "outputs": [
        {
          "output_type": "stream",
          "text": [
            "10000/10000 [==============================] - 1s 148us/sample - loss: 0.8182 - acc: 0.7160\n",
            "Test Accuracy: 0.716\n"
          ],
          "name": "stdout"
        }
      ]
    },
    {
      "cell_type": "code",
      "metadata": {
        "id": "ZTS1PJkVwGTS",
        "colab_type": "code",
        "colab": {
          "base_uri": "https://localhost:8080/",
          "height": 295
        },
        "outputId": "faef938f-fd0f-497c-bd16-d521dc223a8e"
      },
      "source": [
        "plt.plot(epochs_range, loss_values, 'bo', label='Training loss')\n",
        "plt.plot(epochs_range, test_loss_values, 'ro', label='Test loss')\n",
        "plt.title('Training and test loss')\n",
        "plt.xlabel('Epochs')\n",
        "plt.ylabel('Loss')\n",
        "plt.legend()\n",
        "plt.show()"
      ],
      "execution_count": 56,
      "outputs": [
        {
          "output_type": "display_data",
          "data": {
            "image/png": "[encoded data removed]",
            "text/plain": [
              "<Figure size 432x288 with 1 Axes>"
            ]
          },
          "metadata": {
            "tags": []
          }
        }
      ]
    },
    {
      "cell_type": "code",
      "metadata": {
        "id": "EyqhVX6-wIlv",
        "colab_type": "code",
        "colab": {
          "base_uri": "https://localhost:8080/",
          "height": 295
        },
        "outputId": "288c3ee8-c30a-4d88-d75b-778d76127278"
      },
      "source": [
        "plt.plot(epochs_range, acc_values, 'bo', label='Training accuracy')\n",
        "plt.plot(epochs_range, test_acc_values, 'ro', label='Test accuracy')\n",
        "plt.title('Training and test accuracy')\n",
        "plt.xlabel('Epochs')\n",
        "plt.ylabel('Accuracy')\n",
        "plt.legend()\n",
        "plt.show()"
      ],
      "execution_count": 57,
      "outputs": [
        {
          "output_type": "display_data",
          "data": {
            "image/png": "[encoded data removed]",
            "text/plain": [
              "<Figure size 432x288 with 1 Axes>"
            ]
          },
          "metadata": {
            "tags": []
          }
        }
      ]
    }
  ]
}