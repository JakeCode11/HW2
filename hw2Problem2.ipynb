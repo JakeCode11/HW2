{
  "nbformat": 4,
  "nbformat_minor": 0,
  "metadata": {
    "colab": {
      "name": "hw2Problem2.ipynb",
      "provenance": [],
      "collapsed_sections": [],
      "include_colab_link": true
    },
    "kernelspec": {
      "name": "python3",
      "display_name": "Python 3"
    },
    "accelerator": "GPU"
  },
  "cells": [
    {
      "cell_type": "markdown",
      "metadata": {
        "id": "view-in-github",
        "colab_type": "text"
      },
      "source": [
        "<a href=\"https://colab.research.google.com/github/JakeCode11/HW2/blob/master/hw2Problem2.ipynb\" target=\"_parent\"><img src=\"https://colab.research.google.com/assets/colab-badge.svg\" alt=\"Open In Colab\"/></a>"
      ]
    },
    {
      "cell_type": "code",
      "metadata": {
        "id": "wGrZSz7u76Bu",
        "colab_type": "code",
        "colab": {}
      },
      "source": [
        "# Importing dependencies\n",
        "import matplotlib.pyplot as plt\n",
        "import numpy as np\n",
        "import tensorflow as tf\n",
        "from tensorflow import keras\n",
        "\n",
        "# Loading the MNIST Fashion Data set\n",
        "fashion_mnist = keras.datasets.fashion_mnist\n",
        "(train_images, train_labels), (test_images, test_labels) = fashion_mnist.load_data()\n"
      ],
      "execution_count": 0,
      "outputs": []
    },
    {
      "cell_type": "code",
      "metadata": {
        "id": "MhX0rCVx9APQ",
        "colab_type": "code",
        "colab": {}
      },
      "source": [
        "# Preprocessing data\n",
        "train_images = train_images / 255.0\n",
        "test_images = test_images / 255.0"
      ],
      "execution_count": 0,
      "outputs": []
    },
    {
      "cell_type": "code",
      "metadata": {
        "id": "Gi61bBCE-511",
        "colab_type": "code",
        "outputId": "5f10ef5a-0c1d-4081-d8b1-8c3ce2ba95ec",
        "colab": {
          "base_uri": "https://localhost:8080/",
          "height": 806
        }
      },
      "source": [
        "# Setting up the 'Overfitting' model\n",
        "model = keras.Sequential([\n",
        "    keras.layers.Flatten(input_shape=(28,28)),\n",
        "    keras.layers.Dense(128*4, activation=tf.nn.relu),\n",
        "    keras.layers.Dense(10*4, activation=tf.nn.softmax)\n",
        "])\n",
        "\n",
        "# Compiling the model\n",
        "model.compile(optimizer='adam',\n",
        "              loss='sparse_categorical_crossentropy',\n",
        "              metrics=['accuracy'])\n",
        "\n",
        "# train the model\n",
        "epochs = 20\n",
        "history = model.fit(train_images,\n",
        "                    train_labels,\n",
        "                    epochs=epochs,\n",
        "                    validation_data=(test_images, test_labels))"
      ],
      "execution_count": 13,
      "outputs": [
        {
          "output_type": "stream",
          "text": [
            "Train on 60000 samples, validate on 10000 samples\n",
            "Epoch 1/20\n",
            "60000/60000 [==============================] - 5s 79us/sample - loss: 0.4837 - acc: 0.8294 - val_loss: 0.4450 - val_acc: 0.8387\n",
            "Epoch 2/20\n",
            "60000/60000 [==============================] - 5s 76us/sample - loss: 0.3588 - acc: 0.8696 - val_loss: 0.3935 - val_acc: 0.8545\n",
            "Epoch 3/20\n",
            "60000/60000 [==============================] - 5s 77us/sample - loss: 0.3234 - acc: 0.8807 - val_loss: 0.3529 - val_acc: 0.8744\n",
            "Epoch 4/20\n",
            "60000/60000 [==============================] - 5s 76us/sample - loss: 0.2969 - acc: 0.8896 - val_loss: 0.3451 - val_acc: 0.8726\n",
            "Epoch 5/20\n",
            "60000/60000 [==============================] - 4s 72us/sample - loss: 0.2816 - acc: 0.8955 - val_loss: 0.3712 - val_acc: 0.8686\n",
            "Epoch 6/20\n",
            "60000/60000 [==============================] - 4s 74us/sample - loss: 0.2654 - acc: 0.9012 - val_loss: 0.3362 - val_acc: 0.8773\n",
            "Epoch 7/20\n",
            "60000/60000 [==============================] - 5s 75us/sample - loss: 0.2525 - acc: 0.9055 - val_loss: 0.3332 - val_acc: 0.8831\n",
            "Epoch 8/20\n",
            "60000/60000 [==============================] - 4s 74us/sample - loss: 0.2410 - acc: 0.9109 - val_loss: 0.3360 - val_acc: 0.8848\n",
            "Epoch 9/20\n",
            "60000/60000 [==============================] - 5s 76us/sample - loss: 0.2289 - acc: 0.9145 - val_loss: 0.3399 - val_acc: 0.8859\n",
            "Epoch 10/20\n",
            "60000/60000 [==============================] - 5s 77us/sample - loss: 0.2207 - acc: 0.9173 - val_loss: 0.3716 - val_acc: 0.8782\n",
            "Epoch 11/20\n",
            "60000/60000 [==============================] - 4s 74us/sample - loss: 0.2125 - acc: 0.9198 - val_loss: 0.3401 - val_acc: 0.8855\n",
            "Epoch 12/20\n",
            "60000/60000 [==============================] - 5s 76us/sample - loss: 0.2041 - acc: 0.9224 - val_loss: 0.3561 - val_acc: 0.8828\n",
            "Epoch 13/20\n",
            "60000/60000 [==============================] - 4s 72us/sample - loss: 0.1964 - acc: 0.9258 - val_loss: 0.3338 - val_acc: 0.8902\n",
            "Epoch 14/20\n",
            "60000/60000 [==============================] - 5s 77us/sample - loss: 0.1908 - acc: 0.9286 - val_loss: 0.3319 - val_acc: 0.8893\n",
            "Epoch 15/20\n",
            "60000/60000 [==============================] - 5s 77us/sample - loss: 0.1826 - acc: 0.9313 - val_loss: 0.3658 - val_acc: 0.8864\n",
            "Epoch 16/20\n",
            "60000/60000 [==============================] - 5s 75us/sample - loss: 0.1787 - acc: 0.9331 - val_loss: 0.3476 - val_acc: 0.8896\n",
            "Epoch 17/20\n",
            "60000/60000 [==============================] - 4s 73us/sample - loss: 0.1733 - acc: 0.9355 - val_loss: 0.3531 - val_acc: 0.8917\n",
            "Epoch 18/20\n",
            "60000/60000 [==============================] - 4s 71us/sample - loss: 0.1669 - acc: 0.9370 - val_loss: 0.3559 - val_acc: 0.8921\n",
            "Epoch 19/20\n",
            "60000/60000 [==============================] - 5s 75us/sample - loss: 0.1633 - acc: 0.9383 - val_loss: 0.3730 - val_acc: 0.8856\n",
            "Epoch 20/20\n",
            "60000/60000 [==============================] - 5s 75us/sample - loss: 0.1566 - acc: 0.9400 - val_loss: 0.3589 - val_acc: 0.8941\n"
          ],
          "name": "stdout"
        }
      ]
    },
    {
      "cell_type": "code",
      "metadata": {
        "id": "AYkursBtqj3m",
        "colab_type": "code",
        "colab": {
          "base_uri": "https://localhost:8080/",
          "height": 75
        },
        "outputId": "9365f238-2cd7-4c06-bf3c-1631d3d16be7"
      },
      "source": [
        "test_loss, test_acc = model.evaluate(test_images, test_labels)\n",
        "history_dict = history.history\n",
        "acc_values = history_dict['acc']\n",
        "test_acc_values = history_dict['val_acc']\n",
        "loss_values = history_dict['loss']\n",
        "test_loss_values = history_dict['val_loss']\n",
        "epochs_range = range(1, epochs+1)\n",
        "print(\"Test Accuracy:\", test_acc)"
      ],
      "execution_count": 14,
      "outputs": [
        {
          "output_type": "stream",
          "text": [
            "10000/10000 [==============================] - 0s 49us/sample - loss: 0.3589 - acc: 0.8941\n",
            "Test Accuracy: 0.8941\n"
          ],
          "name": "stdout"
        }
      ]
    },
    {
      "cell_type": "code",
      "metadata": {
        "id": "SlZ0h_qWXdu6",
        "colab_type": "code",
        "colab": {
          "base_uri": "https://localhost:8080/",
          "height": 295
        },
        "outputId": "2855710e-1be2-4af8-8c28-8a876c656798"
      },
      "source": [
        "plt.plot(epochs_range, loss_values, 'bo', label='Training loss')\n",
        "plt.plot(epochs_range, test_loss_values, 'ro', label='Test loss')\n",
        "plt.title('Training and test loss')\n",
        "plt.xlabel('Epochs')\n",
        "plt.ylabel('Loss')\n",
        "plt.legend()\n",
        "plt.show()"
      ],
      "execution_count": 15,
      "outputs": [
        {
          "output_type": "display_data",
          "data": {
            "image/png": "[encoded data removed]",
            "text/plain": [
              "<Figure size 432x288 with 1 Axes>"
            ]
          },
          "metadata": {
            "tags": []
          }
        }
      ]
    },
    {
      "cell_type": "code",
      "metadata": {
        "id": "v3rLvfcKqvZb",
        "colab_type": "code",
        "colab": {
          "base_uri": "https://localhost:8080/",
          "height": 295
        },
        "outputId": "a863ec98-60f4-43cc-c1ff-2444b66096bf"
      },
      "source": [
        "plt.plot(epochs_range, acc_values, 'bo', label='Training accuracy')\n",
        "plt.plot(epochs_range, test_acc_values, 'ro', label='Test accuracy')\n",
        "plt.title('Training and test accuracy')\n",
        "plt.xlabel('Epochs')\n",
        "plt.ylabel('Accuracy')\n",
        "plt.legend()\n",
        "plt.show()"
      ],
      "execution_count": 16,
      "outputs": [
        {
          "output_type": "display_data",
          "data": {
            "image/png": "[encoded data removed]",
            "text/plain": [
              "<Figure size 432x288 with 1 Axes>"
            ]
          },
          "metadata": {
            "tags": []
          }
        }
      ]
    },
    {
      "cell_type": "code",
      "metadata": {
        "id": "jspSTECSMTFF",
        "colab_type": "code",
        "colab": {
          "base_uri": "https://localhost:8080/",
          "height": 825
        },
        "outputId": "5882e701-4457-4950-d9ee-091fbfe39428"
      },
      "source": [
        "# Setting up the 'Underfitting' model\n",
        "model = keras.Sequential([\n",
        "    keras.layers.Flatten(input_shape=(28,28)),\n",
        "    keras.layers.Dense(1024, activation=tf.nn.relu),\n",
        "    keras.layers.Dropout(0.75),\n",
        "    keras.layers.Dense(10, activation=tf.nn.softmax)\n",
        "])\n",
        "\n",
        "# Compiling the model\n",
        "model.compile(optimizer='adam',\n",
        "              loss='sparse_categorical_crossentropy',\n",
        "              metrics=['accuracy'])\n",
        "\n",
        "# train the model\n",
        "epochs = 20\n",
        "history = model.fit(train_images,\n",
        "                    train_labels,\n",
        "                    epochs=epochs,\n",
        "                    validation_data=(test_images, test_labels))"
      ],
      "execution_count": 4,
      "outputs": [
        {
          "output_type": "stream",
          "text": [
            "WARNING:tensorflow:Large dropout rate: 0.75 (>0.5). In TensorFlow 2.x, dropout() uses dropout rate instead of keep_prob. Please ensure that this is intended.\n",
            "Train on 60000 samples, validate on 10000 samples\n",
            "Epoch 1/20\n",
            "60000/60000 [==============================] - 5s 83us/sample - loss: 0.6539 - acc: 0.7623 - val_loss: 0.4528 - val_acc: 0.8399\n",
            "Epoch 2/20\n",
            "60000/60000 [==============================] - 5s 88us/sample - loss: 0.5297 - acc: 0.8064 - val_loss: 0.4312 - val_acc: 0.8457\n",
            "Epoch 3/20\n",
            "60000/60000 [==============================] - 5s 81us/sample - loss: 0.4996 - acc: 0.8187 - val_loss: 0.4079 - val_acc: 0.8536\n",
            "Epoch 4/20\n",
            "60000/60000 [==============================] - 5s 79us/sample - loss: 0.4801 - acc: 0.8246 - val_loss: 0.4061 - val_acc: 0.8536\n",
            "Epoch 5/20\n",
            "60000/60000 [==============================] - 5s 83us/sample - loss: 0.4669 - acc: 0.8306 - val_loss: 0.3954 - val_acc: 0.8564\n",
            "Epoch 6/20\n",
            "60000/60000 [==============================] - 5s 83us/sample - loss: 0.4621 - acc: 0.8340 - val_loss: 0.3885 - val_acc: 0.8611\n",
            "Epoch 7/20\n",
            "60000/60000 [==============================] - 5s 77us/sample - loss: 0.4501 - acc: 0.8367 - val_loss: 0.3848 - val_acc: 0.8609\n",
            "Epoch 8/20\n",
            "60000/60000 [==============================] - 5s 79us/sample - loss: 0.4414 - acc: 0.8408 - val_loss: 0.3820 - val_acc: 0.8639\n",
            "Epoch 9/20\n",
            "60000/60000 [==============================] - 5s 84us/sample - loss: 0.4351 - acc: 0.8447 - val_loss: 0.3849 - val_acc: 0.8629\n",
            "Epoch 10/20\n",
            "60000/60000 [==============================] - 5s 79us/sample - loss: 0.4324 - acc: 0.8440 - val_loss: 0.3770 - val_acc: 0.8655\n",
            "Epoch 11/20\n",
            "60000/60000 [==============================] - 5s 77us/sample - loss: 0.4299 - acc: 0.8452 - val_loss: 0.3807 - val_acc: 0.8637\n",
            "Epoch 12/20\n",
            "60000/60000 [==============================] - 5s 77us/sample - loss: 0.4213 - acc: 0.8473 - val_loss: 0.3697 - val_acc: 0.8695\n",
            "Epoch 13/20\n",
            "60000/60000 [==============================] - 5s 79us/sample - loss: 0.4190 - acc: 0.8470 - val_loss: 0.3749 - val_acc: 0.8686\n",
            "Epoch 14/20\n",
            "60000/60000 [==============================] - 5s 82us/sample - loss: 0.4138 - acc: 0.8490 - val_loss: 0.3791 - val_acc: 0.8657\n",
            "Epoch 15/20\n",
            "60000/60000 [==============================] - 5s 83us/sample - loss: 0.4076 - acc: 0.8518 - val_loss: 0.3838 - val_acc: 0.8682\n",
            "Epoch 16/20\n",
            "60000/60000 [==============================] - 5s 79us/sample - loss: 0.4119 - acc: 0.8517 - val_loss: 0.3704 - val_acc: 0.8717\n",
            "Epoch 17/20\n",
            "60000/60000 [==============================] - 5s 81us/sample - loss: 0.4087 - acc: 0.8519 - val_loss: 0.3661 - val_acc: 0.8734\n",
            "Epoch 18/20\n",
            "60000/60000 [==============================] - 5s 83us/sample - loss: 0.4082 - acc: 0.8522 - val_loss: 0.3693 - val_acc: 0.8729\n",
            "Epoch 19/20\n",
            "60000/60000 [==============================] - 4s 74us/sample - loss: 0.3977 - acc: 0.8558 - val_loss: 0.3610 - val_acc: 0.8723\n",
            "Epoch 20/20\n",
            "60000/60000 [==============================] - 5s 82us/sample - loss: 0.4028 - acc: 0.8541 - val_loss: 0.3621 - val_acc: 0.8727\n"
          ],
          "name": "stdout"
        }
      ]
    },
    {
      "cell_type": "code",
      "metadata": {
        "id": "s_xSW6cTMdbf",
        "colab_type": "code",
        "colab": {
          "base_uri": "https://localhost:8080/",
          "height": 75
        },
        "outputId": "3a5ece8b-314a-415e-821e-f1a63ed4d00f"
      },
      "source": [
        "test_loss, test_acc = model.evaluate(test_images, test_labels)\n",
        "history_dict = history.history\n",
        "acc_values = history_dict['acc']\n",
        "test_acc_values = history_dict['val_acc']\n",
        "loss_values = history_dict['loss']\n",
        "test_loss_values = history_dict['val_loss']\n",
        "epochs_range = range(1, epochs+1)\n",
        "print(\"Test Accuracy:\", test_acc)"
      ],
      "execution_count": 5,
      "outputs": [
        {
          "output_type": "stream",
          "text": [
            "10000/10000 [==============================] - 0s 45us/sample - loss: 0.3621 - acc: 0.8727\n",
            "Test Accuracy: 0.8727\n"
          ],
          "name": "stdout"
        }
      ]
    },
    {
      "cell_type": "code",
      "metadata": {
        "id": "uBB2qC3vXtfk",
        "colab_type": "code",
        "colab": {
          "base_uri": "https://localhost:8080/",
          "height": 295
        },
        "outputId": "7b4cab59-5c39-4803-8451-921d2de43c92"
      },
      "source": [
        "plt.plot(epochs_range, loss_values, 'bo', label='Training loss')\n",
        "plt.plot(epochs_range, test_loss_values, 'ro', label='Test loss')\n",
        "plt.title('Training and test loss')\n",
        "plt.xlabel('Epochs')\n",
        "plt.ylabel('Loss')\n",
        "plt.legend()\n",
        "plt.show()"
      ],
      "execution_count": 6,
      "outputs": [
        {
          "output_type": "display_data",
          "data": {
            "image/png": "[encoded data removed]",
            "text/plain": [
              "<Figure size 432x288 with 1 Axes>"
            ]
          },
          "metadata": {
            "tags": []
          }
        }
      ]
    },
    {
      "cell_type": "code",
      "metadata": {
        "id": "F9x-lvUSMgSq",
        "colab_type": "code",
        "colab": {
          "base_uri": "https://localhost:8080/",
          "height": 295
        },
        "outputId": "6dfeef8a-e6ab-4baa-c9e8-f409dc08fa71"
      },
      "source": [
        "plt.plot(epochs_range, acc_values, 'bo', label='Training accuracy')\n",
        "plt.plot(epochs_range, test_acc_values, 'ro', label='Test accuracy')\n",
        "plt.title('Training and test accuracy')\n",
        "plt.xlabel('Epochs')\n",
        "plt.ylabel('Accuracy')\n",
        "plt.legend()\n",
        "plt.show()"
      ],
      "execution_count": 7,
      "outputs": [
        {
          "output_type": "display_data",
          "data": {
            "image/png": "[encoded data removed]",
            "text/plain": [
              "<Figure size 432x288 with 1 Axes>"
            ]
          },
          "metadata": {
            "tags": []
          }
        }
      ]
    },
    {
      "cell_type": "code",
      "metadata": {
        "id": "Qrt4Ae0QYbIN",
        "colab_type": "code",
        "colab": {
          "base_uri": "https://localhost:8080/",
          "height": 806
        },
        "outputId": "a10fee03-da14-49f7-f0d2-a3edc60dc3f3"
      },
      "source": [
        "# Setting up the 'Good fit' model\n",
        "model = keras.Sequential([\n",
        "    keras.layers.Flatten(input_shape=(28,28)),\n",
        "    keras.layers.Dense(32, activation=tf.nn.relu),\n",
        "    keras.layers.Dense(32, activation=tf.nn.softmax),\n",
        "    keras.layers.Dense(32, activation=tf.nn.softmax)\n",
        "])\n",
        "\n",
        "# Compiling the model\n",
        "model.compile(optimizer='adam',\n",
        "              loss='sparse_categorical_crossentropy',\n",
        "              metrics=['accuracy'])\n",
        "\n",
        "# train the model\n",
        "epochs = 20\n",
        "history = model.fit(train_images,\n",
        "                    train_labels,\n",
        "                    epochs=epochs,\n",
        "                    validation_data=(test_images, test_labels))"
      ],
      "execution_count": 9,
      "outputs": [
        {
          "output_type": "stream",
          "text": [
            "Train on 60000 samples, validate on 10000 samples\n",
            "Epoch 1/20\n",
            "60000/60000 [==============================] - 5s 81us/sample - loss: 2.0683 - acc: 0.2957 - val_loss: 1.5687 - val_acc: 0.3019\n",
            "Epoch 2/20\n",
            "60000/60000 [==============================] - 5s 80us/sample - loss: 1.4536 - acc: 0.3450 - val_loss: 1.3714 - val_acc: 0.3959\n",
            "Epoch 3/20\n",
            "60000/60000 [==============================] - 5s 80us/sample - loss: 1.3117 - acc: 0.4074 - val_loss: 1.2823 - val_acc: 0.4060\n",
            "Epoch 4/20\n",
            "60000/60000 [==============================] - 5s 79us/sample - loss: 1.2021 - acc: 0.4883 - val_loss: 1.0566 - val_acc: 0.6337\n",
            "Epoch 5/20\n",
            "60000/60000 [==============================] - 4s 74us/sample - loss: 0.9539 - acc: 0.6606 - val_loss: 0.9102 - val_acc: 0.6914\n",
            "Epoch 6/20\n",
            "60000/60000 [==============================] - 5s 76us/sample - loss: 0.7974 - acc: 0.7394 - val_loss: 0.7285 - val_acc: 0.7561\n",
            "Epoch 7/20\n",
            "60000/60000 [==============================] - 5s 80us/sample - loss: 0.6635 - acc: 0.7779 - val_loss: 0.6489 - val_acc: 0.7784\n",
            "Epoch 8/20\n",
            "60000/60000 [==============================] - 5s 77us/sample - loss: 0.5807 - acc: 0.7999 - val_loss: 0.5732 - val_acc: 0.7937\n",
            "Epoch 9/20\n",
            "60000/60000 [==============================] - 5s 79us/sample - loss: 0.5236 - acc: 0.8125 - val_loss: 0.5424 - val_acc: 0.7996\n",
            "Epoch 10/20\n",
            "60000/60000 [==============================] - 5s 77us/sample - loss: 0.4941 - acc: 0.8213 - val_loss: 0.5267 - val_acc: 0.8050\n",
            "Epoch 11/20\n",
            "60000/60000 [==============================] - 5s 80us/sample - loss: 0.4754 - acc: 0.8269 - val_loss: 0.5194 - val_acc: 0.8116\n",
            "Epoch 12/20\n",
            "60000/60000 [==============================] - 5s 78us/sample - loss: 0.4598 - acc: 0.8307 - val_loss: 0.5024 - val_acc: 0.8116\n",
            "Epoch 13/20\n",
            "60000/60000 [==============================] - 4s 74us/sample - loss: 0.4430 - acc: 0.8405 - val_loss: 0.5001 - val_acc: 0.8189\n",
            "Epoch 14/20\n",
            "60000/60000 [==============================] - 5s 80us/sample - loss: 0.4207 - acc: 0.8600 - val_loss: 0.4678 - val_acc: 0.8400\n",
            "Epoch 15/20\n",
            "60000/60000 [==============================] - 5s 80us/sample - loss: 0.4010 - acc: 0.8709 - val_loss: 0.4539 - val_acc: 0.8488\n",
            "Epoch 16/20\n",
            "60000/60000 [==============================] - 5s 79us/sample - loss: 0.3857 - acc: 0.8771 - val_loss: 0.4628 - val_acc: 0.8483\n",
            "Epoch 17/20\n",
            "60000/60000 [==============================] - 5s 81us/sample - loss: 0.3767 - acc: 0.8794 - val_loss: 0.4528 - val_acc: 0.8531\n",
            "Epoch 18/20\n",
            "60000/60000 [==============================] - 5s 80us/sample - loss: 0.3650 - acc: 0.8826 - val_loss: 0.4549 - val_acc: 0.8508\n",
            "Epoch 19/20\n",
            "60000/60000 [==============================] - 5s 80us/sample - loss: 0.3589 - acc: 0.8845 - val_loss: 0.4410 - val_acc: 0.8591\n",
            "Epoch 20/20\n",
            "60000/60000 [==============================] - 5s 77us/sample - loss: 0.3511 - acc: 0.8860 - val_loss: 0.4770 - val_acc: 0.8431\n"
          ],
          "name": "stdout"
        }
      ]
    },
    {
      "cell_type": "code",
      "metadata": {
        "id": "ktOJmiw2YlOB",
        "colab_type": "code",
        "colab": {
          "base_uri": "https://localhost:8080/",
          "height": 75
        },
        "outputId": "89f0928f-4822-442b-c783-ffb143e15e06"
      },
      "source": [
        "test_loss, test_acc = model.evaluate(test_images, test_labels)\n",
        "history_dict = history.history\n",
        "acc_values = history_dict['acc']\n",
        "test_acc_values = history_dict['val_acc']\n",
        "loss_values = history_dict['loss']\n",
        "test_loss_values = history_dict['val_loss']\n",
        "epochs_range = range(1, epochs+1)\n",
        "print(\"Test Accuracy:\", test_acc)"
      ],
      "execution_count": 10,
      "outputs": [
        {
          "output_type": "stream",
          "text": [
            "10000/10000 [==============================] - 0s 45us/sample - loss: 0.4770 - acc: 0.8431\n",
            "Test Accuracy: 0.8431\n"
          ],
          "name": "stdout"
        }
      ]
    },
    {
      "cell_type": "code",
      "metadata": {
        "id": "rnT21SSdYm2X",
        "colab_type": "code",
        "colab": {
          "base_uri": "https://localhost:8080/",
          "height": 295
        },
        "outputId": "61648d65-0a92-4ad3-d7f4-dcb037c0542a"
      },
      "source": [
        "plt.plot(epochs_range, loss_values, 'bo', label='Training loss')\n",
        "plt.plot(epochs_range, test_loss_values, 'ro', label='Test loss')\n",
        "plt.title('Training and test loss')\n",
        "plt.xlabel('Epochs')\n",
        "plt.ylabel('Loss')\n",
        "plt.legend()\n",
        "plt.show()"
      ],
      "execution_count": 11,
      "outputs": [
        {
          "output_type": "display_data",
          "data": {
            "image/png": "[encoded data removed]",
            "text/plain": [
              "<Figure size 432x288 with 1 Axes>"
            ]
          },
          "metadata": {
            "tags": []
          }
        }
      ]
    },
    {
      "cell_type": "code",
      "metadata": {
        "id": "aL6Haz0UYowJ",
        "colab_type": "code",
        "colab": {
          "base_uri": "https://localhost:8080/",
          "height": 295
        },
        "outputId": "2e0dce1c-7a57-4254-d653-3d1034616bd2"
      },
      "source": [
        "plt.plot(epochs_range, acc_values, 'bo', label='Training accuracy')\n",
        "plt.plot(epochs_range, test_acc_values, 'ro', label='Test accuracy')\n",
        "plt.title('Training and test accuracy')\n",
        "plt.xlabel('Epochs')\n",
        "plt.ylabel('Accuracy')\n",
        "plt.legend()\n",
        "plt.show()"
      ],
      "execution_count": 12,
      "outputs": [
        {
          "output_type": "display_data",
          "data": {
            "image/png": "[encoded data removed]",
            "text/plain": [
              "<Figure size 432x288 with 1 Axes>"
            ]
          },
          "metadata": {
            "tags": []
          }
        }
      ]
    }
  ]
}